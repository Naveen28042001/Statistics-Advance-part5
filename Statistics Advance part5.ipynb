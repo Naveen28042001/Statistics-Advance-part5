{
 "cells": [
  {
   "cell_type": "code",
   "execution_count": null,
   "id": "d0719055-b02e-42c0-bf64-5cd645f5e84f",
   "metadata": {},
   "outputs": [],
   "source": [
    "Q1. Calculate the 95% confidence interval for a sample of data with a mean of 50 and a standard deviation\n",
    "of 5 using Python. Interpret the results."
   ]
  },
  {
   "cell_type": "code",
   "execution_count": 1,
   "id": "893ce9c2-7944-4f31-9d48-fb90a6a6309a",
   "metadata": {},
   "outputs": [],
   "source": [
    "import scipy.stats as stats"
   ]
  },
  {
   "cell_type": "code",
   "execution_count": 2,
   "id": "77b1460d-5e77-4189-94be-6966dca94742",
   "metadata": {},
   "outputs": [],
   "source": [
    "# Given data\n",
    "mean = 50\n",
    "std_dev = 5\n",
    "confidence_level = 0.95\n",
    "sample_size = 30 "
   ]
  },
  {
   "cell_type": "code",
   "execution_count": 3,
   "id": "81c69e29-d2de-4cb2-8d47-69d886d632df",
   "metadata": {},
   "outputs": [],
   "source": [
    "# Calculate the margin of error\n",
    "margin_of_error = stats.norm.ppf((1 + confidence_level) / 2) * (std_dev / (sample_size ** 0.5))"
   ]
  },
  {
   "cell_type": "code",
   "execution_count": 4,
   "id": "d0adeb09-68ae-4534-88c3-753e01ea2d10",
   "metadata": {},
   "outputs": [
    {
     "data": {
      "text/plain": [
       "1.7891941437171572"
      ]
     },
     "execution_count": 4,
     "metadata": {},
     "output_type": "execute_result"
    }
   ],
   "source": [
    "margin_of_error"
   ]
  },
  {
   "cell_type": "code",
   "execution_count": 5,
   "id": "3b7dfeb7-869a-4bf7-827f-b188eb2da6f8",
   "metadata": {},
   "outputs": [
    {
     "name": "stdout",
     "output_type": "stream",
     "text": [
      "95% Confidence Interval: (48.210805856282846, 51.789194143717154)\n"
     ]
    }
   ],
   "source": [
    "# Calculate the confidence interval\n",
    "confidence_interval = (mean - margin_of_error, mean + margin_of_error)\n",
    "\n",
    "print(f\"95% Confidence Interval: {confidence_interval}\")"
   ]
  },
  {
   "cell_type": "code",
   "execution_count": null,
   "id": "c76409c1-bebf-4044-8547-1e935f73c75b",
   "metadata": {},
   "outputs": [],
   "source": [
    "Interpretation of the results:\n",
    "  The 95% confidence interval for the population mean is an interval that we are 95% confident contains the true population mean. In this case, if you were to take multiple samples from the population and compute a 95% confidence interval for each sample, you would expect 95% of these intervals to contain the true population mean.\n",
    "  For example, if the result is \"95% Confidence Interval: (48.42, 51.58),\" you would interpret it as follows: \"We are 95% confident that the true population mean is between 48.42 and 51.58 based on this sample data.\""
   ]
  },
  {
   "cell_type": "code",
   "execution_count": null,
   "id": "e6adfcd2-af4f-4208-9e81-25e37f27f96c",
   "metadata": {},
   "outputs": [],
   "source": [
    "Q2. Conduct a chi-square goodness of fit test to determine if the distribution of colors of M&Ms in a bag\n",
    "matches the expected distribution of 20% blue, 20% orange, 20% green, 10% yellow, 10% red, and 20%\n",
    "brown. Use Python to perform the test with a significance level of 0.05."
   ]
  },
  {
   "cell_type": "code",
   "execution_count": 9,
   "id": "3042ce90-e160-4df2-b652-d89391c3d30a",
   "metadata": {},
   "outputs": [],
   "source": [
    "import numpy as np\n",
    "from scipy.stats import chisquare"
   ]
  },
  {
   "cell_type": "code",
   "execution_count": 10,
   "id": "1b24b659-f4fc-4e93-8fdd-c5d4fd050a8e",
   "metadata": {},
   "outputs": [],
   "source": [
    "# Observed frequencies of M&M colors in a bag\n",
    "observed_frequencies = np.array([25, 15, 10, 10, 20, 20])\n",
    "\n",
    "# Expected frequencies based on the given distribution\n",
    "expected_frequencies = np.array([0.2, 0.2, 0.2, 0.1, 0.1, 0.2]) * np.sum(observed_frequencies)"
   ]
  },
  {
   "cell_type": "code",
   "execution_count": 11,
   "id": "ece0056e-97a5-4c74-8d14-faf087f123cb",
   "metadata": {},
   "outputs": [],
   "source": [
    "# Perform the chi-square goodness of fit test\n",
    "chi2_stat, p_value = chisquare(f_obs=observed_frequencies, f_exp=expected_frequencies)"
   ]
  },
  {
   "cell_type": "code",
   "execution_count": 12,
   "id": "2ab10cd7-8ac8-4141-9613-5b5e2702db1c",
   "metadata": {},
   "outputs": [
    {
     "data": {
      "text/plain": [
       "17.5"
      ]
     },
     "execution_count": 12,
     "metadata": {},
     "output_type": "execute_result"
    }
   ],
   "source": [
    "chi2_stat"
   ]
  },
  {
   "cell_type": "code",
   "execution_count": 13,
   "id": "4e18686c-80e2-4f0f-9adc-0687fd1ce89b",
   "metadata": {},
   "outputs": [
    {
     "data": {
      "text/plain": [
       "0.0036429540197298075"
      ]
     },
     "execution_count": 13,
     "metadata": {},
     "output_type": "execute_result"
    }
   ],
   "source": [
    "p_value"
   ]
  },
  {
   "cell_type": "code",
   "execution_count": 14,
   "id": "bdf339df-8a36-40ab-b61f-f6a06c4d27ed",
   "metadata": {},
   "outputs": [
    {
     "name": "stdout",
     "output_type": "stream",
     "text": [
      "Chi-square statistic: 17.5\n",
      "P-value: 0.0036429540197298075\n"
     ]
    }
   ],
   "source": [
    "# Output the results\n",
    "print(f\"Chi-square statistic: {chi2_stat}\")\n",
    "print(f\"P-value: {p_value}\")"
   ]
  },
  {
   "cell_type": "code",
   "execution_count": 16,
   "id": "878d7915-3d4b-4b75-b7c2-1740d8594358",
   "metadata": {},
   "outputs": [
    {
     "name": "stdout",
     "output_type": "stream",
     "text": [
      "Reject the null hypothesis: The distribution of M&M colors does not match the expected distribution.\n"
     ]
    }
   ],
   "source": [
    "# Compare p-value with the significance level (0.05)\n",
    "if p_value < 0.05:\n",
    "    print(\"Reject the null hypothesis: The distribution of M&M colors does not match the expected distribution.\")\n",
    "else:\n",
    "    print(\"Fail to reject the null hypothesis: The distribution of M&M colors matches the expected distribution.\")"
   ]
  },
  {
   "cell_type": "code",
   "execution_count": null,
   "id": "ff363efb-843c-477b-a24b-ad76beb90bde",
   "metadata": {},
   "outputs": [],
   "source": [
    "The null hypothesis for the chi-square goodness of fit test is that the observed distribution matches the expected distribution. If the p-value is less than the chosen significance level (e.g., 0.05), you would reject the null hypothesis, indicating that there is a significant difference between the observed and expected distributions."
   ]
  },
  {
   "cell_type": "code",
   "execution_count": null,
   "id": "a5f820a3-1066-4e5c-8d24-bab01e626647",
   "metadata": {},
   "outputs": [],
   "source": [
    "Q3. Use Python to calculate the chi-square statistic and p-value for a contingency table with the following\n",
    "data:\n",
    "\n",
    "           Group A     Group B\n",
    "Outcome 1    20          15\n",
    "Outcome 2    10          25\n",
    "Outcome 3    15          20\n",
    "Interpret the results of the test."
   ]
  },
  {
   "cell_type": "code",
   "execution_count": 17,
   "id": "0ef7b202-9257-492c-b0c8-b4eb8c0000b9",
   "metadata": {},
   "outputs": [],
   "source": [
    "import numpy as np\n",
    "from scipy.stats import chi2_contingency"
   ]
  },
  {
   "cell_type": "code",
   "execution_count": 18,
   "id": "0e6d1534-e467-4b3a-ad02-2787d3867c57",
   "metadata": {},
   "outputs": [],
   "source": [
    "# Create a contingency table\n",
    "observed_data = np.array([[20, 15],\n",
    "                          [10, 25],\n",
    "                          [15, 20]])"
   ]
  },
  {
   "cell_type": "code",
   "execution_count": 19,
   "id": "7ff6bdfc-a73b-46ea-8425-f85ef18520b5",
   "metadata": {},
   "outputs": [
    {
     "data": {
      "text/plain": [
       "array([[20, 15],\n",
       "       [10, 25],\n",
       "       [15, 20]])"
      ]
     },
     "execution_count": 19,
     "metadata": {},
     "output_type": "execute_result"
    }
   ],
   "source": [
    "observed_data"
   ]
  },
  {
   "cell_type": "code",
   "execution_count": 20,
   "id": "27d7c4b7-e3c8-4320-a06c-22404114fa6a",
   "metadata": {},
   "outputs": [],
   "source": [
    "# Perform the chi-square test for independence\n",
    "chi2_stat, p_value, dof, expected = chi2_contingency(observed_data)"
   ]
  },
  {
   "cell_type": "code",
   "execution_count": 21,
   "id": "75dfd587-b61f-4518-a2ab-fe433ba2c30f",
   "metadata": {},
   "outputs": [
    {
     "data": {
      "text/plain": [
       "5.833333333333334"
      ]
     },
     "execution_count": 21,
     "metadata": {},
     "output_type": "execute_result"
    }
   ],
   "source": [
    "chi2_stat"
   ]
  },
  {
   "cell_type": "code",
   "execution_count": 22,
   "id": "ba8fc830-aede-4141-a42f-d9c6cf5c7c47",
   "metadata": {},
   "outputs": [
    {
     "data": {
      "text/plain": [
       "0.05411376622282158"
      ]
     },
     "execution_count": 22,
     "metadata": {},
     "output_type": "execute_result"
    }
   ],
   "source": [
    "p_value"
   ]
  },
  {
   "cell_type": "code",
   "execution_count": 23,
   "id": "7edcd747-0666-44ce-9fd3-1ff83c54e7da",
   "metadata": {},
   "outputs": [
    {
     "name": "stdout",
     "output_type": "stream",
     "text": [
      "Chi-square statistic: 5.833333333333334\n",
      "P-value: 0.05411376622282158\n",
      "Degrees of freedom: 2\n",
      "Expected frequencies:\n",
      "[[15. 20.]\n",
      " [15. 20.]\n",
      " [15. 20.]]\n"
     ]
    }
   ],
   "source": [
    "# Output the results\n",
    "print(f\"Chi-square statistic: {chi2_stat}\")\n",
    "print(f\"P-value: {p_value}\")\n",
    "print(f\"Degrees of freedom: {dof}\")\n",
    "print(\"Expected frequencies:\")\n",
    "print(expected)"
   ]
  },
  {
   "cell_type": "code",
   "execution_count": null,
   "id": "a58c5b85-6b3d-4e89-947c-21a475802ec1",
   "metadata": {},
   "outputs": [],
   "source": [
    "Interpretation:\n",
    "  If the p-value is less than the chosen significance level (e.g., 0.05), you would reject the null hypothesis, indicating that there is a significant association between outcomes and groups.\n",
    "  The expected frequencies matrix (expected) provides the expected counts under the assumption of independence between outcomes and groups."
   ]
  },
  {
   "cell_type": "code",
   "execution_count": null,
   "id": "e288d08e-31fa-40e3-abe7-b5826bd735c3",
   "metadata": {},
   "outputs": [],
   "source": [
    "Q4. A study of the prevalence of smoking in a population of 500 individuals found that 60 individuals\n",
    "smoked. Use Python to calculate the 95% confidence interval for the true proportion of individuals in the\n",
    "population who smoke."
   ]
  },
  {
   "cell_type": "code",
   "execution_count": 24,
   "id": "1fb27aa8-e153-41e5-8dfd-938237d9c8aa",
   "metadata": {},
   "outputs": [],
   "source": [
    "import numpy as np\n",
    "from scipy.stats import norm\n"
   ]
  },
  {
   "cell_type": "code",
   "execution_count": 25,
   "id": "3d6a86b9-f9b1-48bd-b75c-fea4a2ca6990",
   "metadata": {},
   "outputs": [],
   "source": [
    "# Given data\n",
    "sample_size = 500\n",
    "smokers = 60"
   ]
  },
  {
   "cell_type": "code",
   "execution_count": 26,
   "id": "2425f45a-2356-4b76-86be-695892f13300",
   "metadata": {},
   "outputs": [],
   "source": [
    "# Calculate the sample proportion\n",
    "sample_proportion = smokers / sample_size"
   ]
  },
  {
   "cell_type": "code",
   "execution_count": 27,
   "id": "159e3a7d-e3dd-4231-a130-83d25e1f05c6",
   "metadata": {},
   "outputs": [
    {
     "data": {
      "text/plain": [
       "0.12"
      ]
     },
     "execution_count": 27,
     "metadata": {},
     "output_type": "execute_result"
    }
   ],
   "source": [
    "sample_proportion"
   ]
  },
  {
   "cell_type": "code",
   "execution_count": 28,
   "id": "666847b9-cf25-4cad-98c7-2f5bcc04080e",
   "metadata": {},
   "outputs": [],
   "source": [
    "# Set the confidence level (e.g., 95%)\n",
    "confidence_level = 0.95"
   ]
  },
  {
   "cell_type": "code",
   "execution_count": 29,
   "id": "c8c41cdd-00d1-4f9d-84f7-1af5961f7b74",
   "metadata": {},
   "outputs": [],
   "source": [
    "# Calculate the standard error\n",
    "standard_error = np.sqrt((sample_proportion * (1 - sample_proportion)) / sample_size)"
   ]
  },
  {
   "cell_type": "code",
   "execution_count": 30,
   "id": "639ca321-f991-4f72-94a4-846bdd7e02f7",
   "metadata": {},
   "outputs": [
    {
     "data": {
      "text/plain": [
       "0.014532721699667961"
      ]
     },
     "execution_count": 30,
     "metadata": {},
     "output_type": "execute_result"
    }
   ],
   "source": [
    "standard_error"
   ]
  },
  {
   "cell_type": "code",
   "execution_count": 31,
   "id": "08ea76bb-589a-4af1-a1a3-3b40e381e552",
   "metadata": {},
   "outputs": [],
   "source": [
    "# Calculate the margin of error\n",
    "margin_of_error = norm.ppf((1 + confidence_level) / 2) * standard_error"
   ]
  },
  {
   "cell_type": "code",
   "execution_count": 32,
   "id": "cdfb57d0-877d-4e91-b376-941fb1788fd4",
   "metadata": {},
   "outputs": [
    {
     "data": {
      "text/plain": [
       "0.028483611128692923"
      ]
     },
     "execution_count": 32,
     "metadata": {},
     "output_type": "execute_result"
    }
   ],
   "source": [
    "margin_of_error"
   ]
  },
  {
   "cell_type": "code",
   "execution_count": 33,
   "id": "cdc610b5-bfb1-432a-9213-812cb833b1af",
   "metadata": {},
   "outputs": [],
   "source": [
    "# Calculate the confidence interval\n",
    "confidence_interval = (sample_proportion - margin_of_error, sample_proportion + margin_of_error)"
   ]
  },
  {
   "cell_type": "code",
   "execution_count": 34,
   "id": "8bbb030a-109c-410b-8bc0-d7582c8f137d",
   "metadata": {},
   "outputs": [
    {
     "data": {
      "text/plain": [
       "(0.09151638887130707, 0.1484836111286929)"
      ]
     },
     "execution_count": 34,
     "metadata": {},
     "output_type": "execute_result"
    }
   ],
   "source": [
    "confidence_interval"
   ]
  },
  {
   "cell_type": "code",
   "execution_count": 35,
   "id": "97752a0a-dc46-4832-abf5-12ed0a4d2b5f",
   "metadata": {},
   "outputs": [
    {
     "name": "stdout",
     "output_type": "stream",
     "text": [
      "Sample proportion: 0.120\n",
      "Standard error: 0.015\n",
      "Margin of error: 0.028\n",
      "Confidence interval: (0.09151638887130707, 0.1484836111286929)\n"
     ]
    }
   ],
   "source": [
    "# Output the results\n",
    "print(f\"Sample proportion: {sample_proportion:.3f}\")\n",
    "print(f\"Standard error: {standard_error:.3f}\")\n",
    "print(f\"Margin of error: {margin_of_error:.3f}\")\n",
    "print(f\"Confidence interval: {confidence_interval}\")"
   ]
  },
  {
   "cell_type": "code",
   "execution_count": null,
   "id": "594c47b0-9ec1-4301-a032-b515abd97d9d",
   "metadata": {},
   "outputs": [],
   "source": [
    "Q5. Calculate the 90% confidence interval for a sample of data with a mean of 75 and a standard deviation\n",
    "of 12 using Python. Interpret the results."
   ]
  },
  {
   "cell_type": "code",
   "execution_count": 36,
   "id": "c3221750-2b8c-4376-ab48-2db463df2c43",
   "metadata": {},
   "outputs": [],
   "source": [
    "import numpy as np\n",
    "from scipy.stats import t"
   ]
  },
  {
   "cell_type": "code",
   "execution_count": 37,
   "id": "ae3bffc5-8320-40bc-8fdd-050ed8eed3b1",
   "metadata": {},
   "outputs": [],
   "source": [
    "# Given data\n",
    "sample_mean = 75\n",
    "sample_std_dev = 12\n",
    "sample_size = 30 "
   ]
  },
  {
   "cell_type": "code",
   "execution_count": 38,
   "id": "29a52f5e-33b2-4ac3-9fe9-ce5fc439cf52",
   "metadata": {},
   "outputs": [],
   "source": [
    "# Set the confidence level (e.g., 90%)\n",
    "confidence_level = 0.90"
   ]
  },
  {
   "cell_type": "code",
   "execution_count": 39,
   "id": "c0fff2ab-13d6-4d89-8574-e69d768d91ad",
   "metadata": {},
   "outputs": [],
   "source": [
    "# Calculate the standard error of the mean\n",
    "standard_error = sample_std_dev / np.sqrt(sample_size)\n"
   ]
  },
  {
   "cell_type": "code",
   "execution_count": 40,
   "id": "c9b103f0-5381-418e-965a-9362b9e0b22c",
   "metadata": {},
   "outputs": [
    {
     "data": {
      "text/plain": [
       "2.1908902300206643"
      ]
     },
     "execution_count": 40,
     "metadata": {},
     "output_type": "execute_result"
    }
   ],
   "source": [
    "standard_error"
   ]
  },
  {
   "cell_type": "code",
   "execution_count": 41,
   "id": "f159fd2f-5c7b-4959-8944-2f4e2bbf8106",
   "metadata": {},
   "outputs": [],
   "source": [
    "# Calculate the degrees of freedom (n - 1 for a sample)\n",
    "degrees_of_freedom = sample_size - 1"
   ]
  },
  {
   "cell_type": "code",
   "execution_count": 42,
   "id": "fbfe6b09-1c10-47c1-8bb0-f1048f1a305a",
   "metadata": {},
   "outputs": [
    {
     "data": {
      "text/plain": [
       "29"
      ]
     },
     "execution_count": 42,
     "metadata": {},
     "output_type": "execute_result"
    }
   ],
   "source": [
    "degrees_of_freedom"
   ]
  },
  {
   "cell_type": "code",
   "execution_count": 43,
   "id": "f499234e-0c40-4bea-872e-af799cef8e70",
   "metadata": {},
   "outputs": [],
   "source": [
    "# Calculate the t-value for the given confidence level and degrees of freedom\n",
    "t_value = t.ppf((1 + confidence_level) / 2, degrees_of_freedom)"
   ]
  },
  {
   "cell_type": "code",
   "execution_count": 44,
   "id": "a70be47a-c7bd-4adf-8c4c-c648f4c263e0",
   "metadata": {},
   "outputs": [
    {
     "data": {
      "text/plain": [
       "1.6991270265334972"
      ]
     },
     "execution_count": 44,
     "metadata": {},
     "output_type": "execute_result"
    }
   ],
   "source": [
    "t_value"
   ]
  },
  {
   "cell_type": "code",
   "execution_count": 45,
   "id": "f13b1b93-ba25-4e6c-82a2-3dd2eef1f86b",
   "metadata": {},
   "outputs": [],
   "source": [
    "# Calculate the margin of error\n",
    "margin_of_error = t_value * standard_error"
   ]
  },
  {
   "cell_type": "code",
   "execution_count": 46,
   "id": "eb6dbda7-765d-4eb9-96cd-31b6d3654774",
   "metadata": {},
   "outputs": [
    {
     "data": {
      "text/plain": [
       "3.7226008019963013"
      ]
     },
     "execution_count": 46,
     "metadata": {},
     "output_type": "execute_result"
    }
   ],
   "source": [
    "margin_of_error"
   ]
  },
  {
   "cell_type": "code",
   "execution_count": 47,
   "id": "794ab1c9-0bfd-4c32-83a8-11da594cc74f",
   "metadata": {},
   "outputs": [],
   "source": [
    "# Calculate the confidence interval\n",
    "confidence_interval = (sample_mean - margin_of_error, sample_mean + margin_of_error)"
   ]
  },
  {
   "cell_type": "code",
   "execution_count": 48,
   "id": "27304d8b-1dc2-4892-8bf4-1552de9a315f",
   "metadata": {},
   "outputs": [
    {
     "data": {
      "text/plain": [
       "(71.27739919800369, 78.72260080199631)"
      ]
     },
     "execution_count": 48,
     "metadata": {},
     "output_type": "execute_result"
    }
   ],
   "source": [
    "confidence_interval"
   ]
  },
  {
   "cell_type": "code",
   "execution_count": 49,
   "id": "b7f66a94-490e-4f66-af27-b72ea308b4a5",
   "metadata": {},
   "outputs": [
    {
     "name": "stdout",
     "output_type": "stream",
     "text": [
      "Sample mean: 75.00\n",
      "Standard error: 2.19\n",
      "Degrees of freedom: 29\n",
      "t-value: 1.70\n",
      "Margin of error: 3.72\n",
      "Confidence interval: (71.27739919800369, 78.72260080199631)\n"
     ]
    }
   ],
   "source": [
    "# Output the results\n",
    "print(f\"Sample mean: {sample_mean:.2f}\")\n",
    "print(f\"Standard error: {standard_error:.2f}\")\n",
    "print(f\"Degrees of freedom: {degrees_of_freedom}\")\n",
    "print(f\"t-value: {t_value:.2f}\")\n",
    "print(f\"Margin of error: {margin_of_error:.2f}\")\n",
    "print(f\"Confidence interval: {confidence_interval}\")"
   ]
  },
  {
   "cell_type": "code",
   "execution_count": null,
   "id": "22be1a45-0c4f-475b-bd55-013bf5098639",
   "metadata": {},
   "outputs": [],
   "source": [
    "Interpretation:\n",
    "  The 90% confidence interval for the population mean is calculated to be (lower bound, upper bound).\n",
    "  The margin of error is the range within which we can be 90% confident that the true population mean lies.\n",
    "  In this example, the interval would be interpreted as: \"We are 90% confident that the true population mean is between [lower bound, upper bound].\""
   ]
  },
  {
   "cell_type": "code",
   "execution_count": null,
   "id": "7aebba29-00f7-462d-a011-e8cb6adff99f",
   "metadata": {},
   "outputs": [],
   "source": [
    "Q6. Use Python to plot the chi-square distribution with 10 degrees of freedom. Label the axes and shade the\n",
    "area corresponding to a chi-square statistic of 15."
   ]
  },
  {
   "cell_type": "code",
   "execution_count": 50,
   "id": "8eb3458e-652d-4959-85d5-cc8b6043e6ce",
   "metadata": {},
   "outputs": [],
   "source": [
    "import numpy as np\n",
    "import matplotlib.pyplot as plt\n",
    "from scipy.stats import chi2"
   ]
  },
  {
   "cell_type": "code",
   "execution_count": 51,
   "id": "3d3e3a69-b443-4f9b-a104-8195bffd4674",
   "metadata": {},
   "outputs": [],
   "source": [
    "# Degrees of freedom\n",
    "df = 10"
   ]
  },
  {
   "cell_type": "code",
   "execution_count": 52,
   "id": "616a591e-60e6-4ad0-b7c6-233deb3307a6",
   "metadata": {},
   "outputs": [],
   "source": [
    "# Create a range of values for the x-axis\n",
    "x = np.linspace(0, 30, 1000)"
   ]
  },
  {
   "cell_type": "code",
   "execution_count": 53,
   "id": "0031d4f7-83be-4aa8-9180-7fa51bfcac76",
   "metadata": {},
   "outputs": [
    {
     "data": {
      "text/plain": [
       "[<matplotlib.lines.Line2D at 0x7f6e44d762f0>]"
      ]
     },
     "execution_count": 53,
     "metadata": {},
     "output_type": "execute_result"
    },
    {
     "data": {
      "image/png": "[encoded data removed]",
      "text/plain": [
       "<Figure size 640x480 with 1 Axes>"
      ]
     },
     "metadata": {},
     "output_type": "display_data"
    }
   ],
   "source": [
    "# Plot the chi-square distribution\n",
    "plt.plot(x, chi2.pdf(x, df), label=f'Chi-square ({df} df)')"
   ]
  },
  {
   "cell_type": "code",
   "execution_count": 55,
   "id": "b0e95d04-ffe4-4919-98f4-567799faa5a0",
   "metadata": {},
   "outputs": [
    {
     "data": {
      "image/png": "[encoded data removed]",
      "text/plain": [
       "<Figure size 640x480 with 1 Axes>"
      ]
     },
     "metadata": {},
     "output_type": "display_data"
    }
   ],
   "source": [
    "# Shade the area corresponding to a chi-square statistic of 15\n",
    "x_shade = np.linspace(0, 15, 100)\n",
    "plt.fill_between(x_shade, chi2.pdf(x_shade, df), color='skyblue', alpha=0.5, label='Chi-square statistic of 15')\n",
    "\n",
    "# Label the axes\n",
    "plt.xlabel('Chi-square statistic')\n",
    "plt.ylabel('Probability Density Function (PDF)')\n",
    "plt.title(f'Chi-square Distribution with {df} Degrees of Freedom')\n",
    "plt.legend()\n",
    "\n",
    "# Show the plot\n",
    "plt.show()"
   ]
  },
  {
   "cell_type": "code",
   "execution_count": null,
   "id": "e065c6e4-f058-4095-9c12-4aa36ced338d",
   "metadata": {},
   "outputs": [],
   "source": [
    "Q7. A random sample of 1000 people was asked if they preferred Coke or Pepsi. Of the sample, 520\n",
    "preferred Coke. Calculate a 99% confidence interval for the true proportion of people in the population who\n",
    "prefer Coke."
   ]
  },
  {
   "cell_type": "code",
   "execution_count": 56,
   "id": "89fb5f47-6c65-4be6-bf90-add0ad25997c",
   "metadata": {},
   "outputs": [],
   "source": [
    "import numpy as np\n",
    "from scipy.stats import norm"
   ]
  },
  {
   "cell_type": "code",
   "execution_count": 57,
   "id": "4763477b-5942-4365-a963-cae8b0e115d6",
   "metadata": {},
   "outputs": [],
   "source": [
    "# Given data\n",
    "sample_size = 1000\n",
    "coke_preference = 520"
   ]
  },
  {
   "cell_type": "code",
   "execution_count": 58,
   "id": "52200dc2-e6a0-4842-968f-4368f323a92e",
   "metadata": {},
   "outputs": [],
   "source": [
    "# Calculate the sample proportion\n",
    "sample_proportion = coke_preference / sample_size"
   ]
  },
  {
   "cell_type": "code",
   "execution_count": 59,
   "id": "e1cd0d39-0a2b-428f-b74e-803da66a0529",
   "metadata": {},
   "outputs": [],
   "source": [
    "# Set the confidence level (e.g., 99%)\n",
    "confidence_level = 0.99"
   ]
  },
  {
   "cell_type": "code",
   "execution_count": 60,
   "id": "ce9e5e6c-ed4d-4b30-b9b4-4ab80cdb8ccf",
   "metadata": {},
   "outputs": [],
   "source": [
    "# Calculate the standard error\n",
    "standard_error = np.sqrt((sample_proportion * (1 - sample_proportion)) / sample_size)"
   ]
  },
  {
   "cell_type": "code",
   "execution_count": 61,
   "id": "ea8ccaa1-c32b-4436-8eff-ce24e98cac2d",
   "metadata": {},
   "outputs": [
    {
     "data": {
      "text/plain": [
       "0.0157987341265052"
      ]
     },
     "execution_count": 61,
     "metadata": {},
     "output_type": "execute_result"
    }
   ],
   "source": [
    "standard_error"
   ]
  },
  {
   "cell_type": "code",
   "execution_count": 62,
   "id": "c25cf943-da13-471e-a05b-0bc5bd0755c5",
   "metadata": {},
   "outputs": [],
   "source": [
    "# Calculate the margin of error\n",
    "margin_of_error = norm.ppf((1 + confidence_level) / 2) * standard_error"
   ]
  },
  {
   "cell_type": "code",
   "execution_count": 63,
   "id": "2a8f544a-8230-4317-8626-1fda73849af7",
   "metadata": {},
   "outputs": [
    {
     "data": {
      "text/plain": [
       "0.040694842322030134"
      ]
     },
     "execution_count": 63,
     "metadata": {},
     "output_type": "execute_result"
    }
   ],
   "source": [
    "margin_of_error"
   ]
  },
  {
   "cell_type": "code",
   "execution_count": 64,
   "id": "90e16d8b-f6a7-4223-892a-945c41e7e9f5",
   "metadata": {},
   "outputs": [],
   "source": [
    "# Calculate the confidence interval\n",
    "confidence_interval = (sample_proportion - margin_of_error, sample_proportion + margin_of_error)"
   ]
  },
  {
   "cell_type": "code",
   "execution_count": 65,
   "id": "df1dab74-4628-424d-87c7-d50afdcc0c4e",
   "metadata": {},
   "outputs": [
    {
     "data": {
      "text/plain": [
       "(0.4793051576779699, 0.5606948423220302)"
      ]
     },
     "execution_count": 65,
     "metadata": {},
     "output_type": "execute_result"
    }
   ],
   "source": [
    "confidence_interval"
   ]
  },
  {
   "cell_type": "code",
   "execution_count": 66,
   "id": "567e1259-8bc5-4ffb-90f7-92ce9bd144d9",
   "metadata": {},
   "outputs": [
    {
     "name": "stdout",
     "output_type": "stream",
     "text": [
      "Sample proportion: 0.520\n",
      "Standard error: 0.016\n",
      "Margin of error: 0.041\n",
      "99% Confidence interval: (0.4793051576779699, 0.5606948423220302)\n"
     ]
    }
   ],
   "source": [
    "# Output the results\n",
    "print(f\"Sample proportion: {sample_proportion:.3f}\")\n",
    "print(f\"Standard error: {standard_error:.3f}\")\n",
    "print(f\"Margin of error: {margin_of_error:.3f}\")\n",
    "print(f\"99% Confidence interval: {confidence_interval}\")"
   ]
  },
  {
   "cell_type": "code",
   "execution_count": null,
   "id": "d7099cd4-5f9a-4eca-9cc2-042ed598c3cd",
   "metadata": {},
   "outputs": [],
   "source": [
    "Interpretation:\n",
    "  The 99% confidence interval for the true proportion of people in the population who prefer Coke is calculated to be (lower bound, upper bound).\n",
    "  The margin of error is the range within which we can be 99% confident that the true population proportion lies."
   ]
  },
  {
   "cell_type": "code",
   "execution_count": null,
   "id": "9feac46e-5d69-45e7-bcb8-14b2d9a848c0",
   "metadata": {},
   "outputs": [],
   "source": [
    "Q8. A researcher hypothesizes that a coin is biased towards tails. They flip the coin 100 times and observe\n",
    "45 tails. Conduct a chi-square goodness of fit test to determine if the observed frequencies match the\n",
    "expected frequencies of a fair coin. Use a significance level of 0.05."
   ]
  },
  {
   "cell_type": "code",
   "execution_count": 67,
   "id": "052e140f-1101-4c3f-afbd-fdcdf54949b0",
   "metadata": {},
   "outputs": [],
   "source": [
    "import numpy as np\n",
    "from scipy.stats import chisquare\n"
   ]
  },
  {
   "cell_type": "code",
   "execution_count": 68,
   "id": "3fc2a352-e7dd-4322-a0c1-ad7cc04feafc",
   "metadata": {},
   "outputs": [],
   "source": [
    "# Given data\n",
    "observed_tails = 45\n",
    "total_flips = 100"
   ]
  },
  {
   "cell_type": "code",
   "execution_count": 69,
   "id": "d7b56acc-41a2-4a32-aac1-c6708cddb917",
   "metadata": {},
   "outputs": [],
   "source": [
    "# Expected frequencies for a fair coin\n",
    "expected_heads = total_flips / 2\n",
    "expected_tails = total_flips / 2"
   ]
  },
  {
   "cell_type": "code",
   "execution_count": 70,
   "id": "c349f038-e6df-4278-ae3c-c03757623ff9",
   "metadata": {},
   "outputs": [
    {
     "data": {
      "text/plain": [
       "50.0"
      ]
     },
     "execution_count": 70,
     "metadata": {},
     "output_type": "execute_result"
    }
   ],
   "source": [
    "expected_heads"
   ]
  },
  {
   "cell_type": "code",
   "execution_count": 71,
   "id": "42d00562-0c41-4407-99dd-d11b14178c05",
   "metadata": {},
   "outputs": [
    {
     "data": {
      "text/plain": [
       "50.0"
      ]
     },
     "execution_count": 71,
     "metadata": {},
     "output_type": "execute_result"
    }
   ],
   "source": [
    "expected_tails"
   ]
  },
  {
   "cell_type": "code",
   "execution_count": 72,
   "id": "b7d3fedc-eef3-4807-a0f5-7ab368efcd77",
   "metadata": {},
   "outputs": [],
   "source": [
    "# Observed and expected frequencies\n",
    "observed_frequencies = np.array([total_flips - observed_tails, observed_tails])\n",
    "expected_frequencies = np.array([expected_heads, expected_tails])"
   ]
  },
  {
   "cell_type": "code",
   "execution_count": 73,
   "id": "8ecfc0dc-c74c-49d8-9aa4-a0b1e3727b7e",
   "metadata": {},
   "outputs": [
    {
     "data": {
      "text/plain": [
       "array([55, 45])"
      ]
     },
     "execution_count": 73,
     "metadata": {},
     "output_type": "execute_result"
    }
   ],
   "source": [
    "observed_frequencies"
   ]
  },
  {
   "cell_type": "code",
   "execution_count": 74,
   "id": "316da4f5-5601-4e97-8129-9ae121408d30",
   "metadata": {},
   "outputs": [
    {
     "data": {
      "text/plain": [
       "array([50., 50.])"
      ]
     },
     "execution_count": 74,
     "metadata": {},
     "output_type": "execute_result"
    }
   ],
   "source": [
    "expected_frequencies"
   ]
  },
  {
   "cell_type": "code",
   "execution_count": 75,
   "id": "272eea01-1646-4398-bd50-7f75ccf4702e",
   "metadata": {},
   "outputs": [],
   "source": [
    "# Perform the chi-square goodness of fit test\n",
    "chi2_stat, p_value = chisquare(f_obs=observed_frequencies, f_exp=expected_frequencies)"
   ]
  },
  {
   "cell_type": "code",
   "execution_count": 76,
   "id": "1dc010a5-4b30-4a85-a760-18a56bfb22c8",
   "metadata": {},
   "outputs": [
    {
     "data": {
      "text/plain": [
       "1.0"
      ]
     },
     "execution_count": 76,
     "metadata": {},
     "output_type": "execute_result"
    }
   ],
   "source": [
    "chi2_stat"
   ]
  },
  {
   "cell_type": "code",
   "execution_count": 77,
   "id": "fa494111-bb2f-4462-ac7c-debfd669f8e2",
   "metadata": {},
   "outputs": [
    {
     "data": {
      "text/plain": [
       "0.31731050786291115"
      ]
     },
     "execution_count": 77,
     "metadata": {},
     "output_type": "execute_result"
    }
   ],
   "source": [
    "p_value"
   ]
  },
  {
   "cell_type": "code",
   "execution_count": 78,
   "id": "b0d46a91-3472-4fd9-98f1-6c9f49019adf",
   "metadata": {},
   "outputs": [
    {
     "name": "stdout",
     "output_type": "stream",
     "text": [
      "Chi-square statistic: 1.0\n",
      "P-value: 0.31731050786291115\n"
     ]
    }
   ],
   "source": [
    "# Output the results\n",
    "print(f\"Chi-square statistic: {chi2_stat}\")\n",
    "print(f\"P-value: {p_value}\")"
   ]
  },
  {
   "cell_type": "code",
   "execution_count": 79,
   "id": "c64d8e41-8ddc-4df7-a84c-cb674d6569ad",
   "metadata": {},
   "outputs": [
    {
     "name": "stdout",
     "output_type": "stream",
     "text": [
      "Fail to reject the null hypothesis: The coin is not conclusively biased towards tails.\n"
     ]
    }
   ],
   "source": [
    "# Compare p-value with the significance level (0.05)\n",
    "if p_value < 0.05:\n",
    "    print(\"Reject the null hypothesis: The coin may be biased towards tails.\")\n",
    "else:\n",
    "    print(\"Fail to reject the null hypothesis: The coin is not conclusively biased towards tails.\")"
   ]
  },
  {
   "cell_type": "code",
   "execution_count": null,
   "id": "c3b503c7-b984-4633-9eaf-ed541fbabb21",
   "metadata": {},
   "outputs": [],
   "source": [
    "Q9. A study was conducted to determine if there is an association between smoking status (smoker or\n",
    "non-smoker) and lung cancer diagnosis (yes or no). The results are shown in the contingency table below.\n",
    "Conduct a chi-square test for independence to determine if there is a significant association between\n",
    "smoking status and lung cancer diagnosis.\n",
    "\n",
    "Use a significance level of 0.05.\n",
    "\n",
    "                Lung Cancer: Yes   Lung Cancer: No\n",
    "Smoker               60               140\n",
    "Non-smoker           30               170"
   ]
  },
  {
   "cell_type": "code",
   "execution_count": 80,
   "id": "1a25427e-53a0-4b06-a58c-ee807794a0de",
   "metadata": {},
   "outputs": [],
   "source": [
    "import numpy as np\n",
    "from scipy.stats import chi2_contingency"
   ]
  },
  {
   "cell_type": "code",
   "execution_count": 81,
   "id": "f62e36ee-1239-4dcc-81c6-79cc89573174",
   "metadata": {},
   "outputs": [],
   "source": [
    "# Given data\n",
    "observed_data = np.array([[60, 140],\n",
    "                          [30, 170]])"
   ]
  },
  {
   "cell_type": "code",
   "execution_count": 82,
   "id": "21499116-dab8-4d9e-9d3b-4f6448424bda",
   "metadata": {},
   "outputs": [
    {
     "data": {
      "text/plain": [
       "array([[ 60, 140],\n",
       "       [ 30, 170]])"
      ]
     },
     "execution_count": 82,
     "metadata": {},
     "output_type": "execute_result"
    }
   ],
   "source": [
    "observed_data"
   ]
  },
  {
   "cell_type": "code",
   "execution_count": 83,
   "id": "4a7d1607-6eda-4724-b0e0-2bc04e94b8bd",
   "metadata": {},
   "outputs": [],
   "source": [
    "# Perform the chi-square test for independence\n",
    "chi2_stat, p_value, dof, expected = chi2_contingency(observed_data)\n"
   ]
  },
  {
   "cell_type": "code",
   "execution_count": 84,
   "id": "a4b7ed91-74f7-48d0-98bc-be2c00107f10",
   "metadata": {},
   "outputs": [
    {
     "name": "stdout",
     "output_type": "stream",
     "text": [
      "Chi-square statistic: 12.057347670250895\n",
      "P-value: 0.0005158863863703744\n",
      "Degrees of freedom: 1\n",
      "Expected frequencies:\n",
      "[[ 45. 155.]\n",
      " [ 45. 155.]]\n"
     ]
    }
   ],
   "source": [
    "# Output the results\n",
    "print(f\"Chi-square statistic: {chi2_stat}\")\n",
    "print(f\"P-value: {p_value}\")\n",
    "print(f\"Degrees of freedom: {dof}\")\n",
    "print(\"Expected frequencies:\")\n",
    "print(expected)"
   ]
  },
  {
   "cell_type": "code",
   "execution_count": 85,
   "id": "2e4652d3-d637-41d2-bbde-f00bcb79d520",
   "metadata": {},
   "outputs": [
    {
     "name": "stdout",
     "output_type": "stream",
     "text": [
      "Reject the null hypothesis: There is a significant association between smoking status and lung cancer diagnosis.\n"
     ]
    }
   ],
   "source": [
    "# Compare p-value with the significance level (0.05)\n",
    "if p_value < 0.05:\n",
    "    print(\"Reject the null hypothesis: There is a significant association between smoking status and lung cancer diagnosis.\")\n",
    "else:\n",
    "    print(\"Fail to reject the null hypothesis: There is no significant association between smoking status and lung cancer diagnosis.\")"
   ]
  },
  {
   "cell_type": "code",
   "execution_count": null,
   "id": "a3ea3c05-9917-4239-adc6-ffc6af66f618",
   "metadata": {},
   "outputs": [],
   "source": [
    "Q10. A study was conducted to determine if the proportion of people who prefer milk chocolate, dark\n",
    "chocolate, or white chocolate is different in the U.S. versus the U.K. A random sample of 500 people from\n",
    "the U.S. and a random sample of 500 people from the U.K. were surveyed. The results are shown in the\n",
    "contingency table below. Conduct a chi-square test for independence to determine if there is a significant\n",
    "association between chocolate preference and country of origin.\n",
    "Use a significance level of 0.01.\n",
    "               Milk Chocolate   Dark Chocolate  White Chocolate\n",
    "U.S. (n=500)       200             150              150\n",
    "U.K. (n=500)       225             175              100"
   ]
  },
  {
   "cell_type": "code",
   "execution_count": 86,
   "id": "9d9b8e6a-041a-40f0-ae87-6614c3cb5ba5",
   "metadata": {},
   "outputs": [],
   "source": [
    "import numpy as np\n",
    "from scipy.stats import chi2_contingency"
   ]
  },
  {
   "cell_type": "code",
   "execution_count": 87,
   "id": "e0e456ed-2a4e-4452-bc7d-c696a1bc7402",
   "metadata": {},
   "outputs": [],
   "source": [
    "# Given contingency table\n",
    "observed = np.array([[200, 150, 150], [225, 175, 100]])"
   ]
  },
  {
   "cell_type": "code",
   "execution_count": 88,
   "id": "ccb2e705-fa81-44cc-845d-75052c1412b5",
   "metadata": {},
   "outputs": [
    {
     "data": {
      "text/plain": [
       "array([[200, 150, 150],\n",
       "       [225, 175, 100]])"
      ]
     },
     "execution_count": 88,
     "metadata": {},
     "output_type": "execute_result"
    }
   ],
   "source": [
    "observed"
   ]
  },
  {
   "cell_type": "code",
   "execution_count": 89,
   "id": "8346f2b2-a20a-48aa-86ef-7d6f1234cad9",
   "metadata": {},
   "outputs": [],
   "source": [
    "# Perform chi-square test for independence\n",
    "chi2, p, dof, expected = chi2_contingency(observed)"
   ]
  },
  {
   "cell_type": "code",
   "execution_count": 90,
   "id": "17d30ee1-cb01-4032-aa1a-b2f4aecd5cc2",
   "metadata": {},
   "outputs": [
    {
     "name": "stdout",
     "output_type": "stream",
     "text": [
      "Chi-square statistic: 13.393665158371041\n",
      "P-value: 0.0012348168997745918\n",
      "Degrees of freedom: 2\n",
      "Expected frequencies table:\n",
      "[[212.5 162.5 125. ]\n",
      " [212.5 162.5 125. ]]\n"
     ]
    }
   ],
   "source": [
    "# Print the results\n",
    "print(\"Chi-square statistic:\", chi2)\n",
    "print(\"P-value:\", p)\n",
    "print(\"Degrees of freedom:\", dof)\n",
    "print(\"Expected frequencies table:\")\n",
    "print(expected)"
   ]
  },
  {
   "cell_type": "code",
   "execution_count": 91,
   "id": "85254e5c-48d6-4b06-9c44-d09d18a4795f",
   "metadata": {},
   "outputs": [],
   "source": [
    "# Significance level\n",
    "alpha = 0.01"
   ]
  },
  {
   "cell_type": "code",
   "execution_count": 92,
   "id": "fcfc724b-8bff-4785-ba87-480cfbcb99dc",
   "metadata": {},
   "outputs": [
    {
     "name": "stdout",
     "output_type": "stream",
     "text": [
      "\n",
      "Reject the null hypothesis. There is a significant association between chocolate preference and country of origin at the 0.01 significance level.\n"
     ]
    }
   ],
   "source": [
    "# Compare p-value with significance level\n",
    "if p < alpha:\n",
    "    print(f\"\\nReject the null hypothesis. There is a significant association between chocolate preference and country of origin at the {alpha} significance level.\")\n",
    "else:\n",
    "    print(f\"\\nFail to reject the null hypothesis. There is no significant association between chocolate preference and country of origin at the {alpha} significance level.\")"
   ]
  },
  {
   "cell_type": "code",
   "execution_count": null,
   "id": "2445466a-4113-425d-9dce-62ad4055591d",
   "metadata": {},
   "outputs": [],
   "source": [
    "Interpretation of results:\n",
    "  If the p-value is less than the chosen significance level (e.g., 0.05), you can reject the null hypothesis and conclude that there is a significant association between chocolate preference and country of origin."
   ]
  },
  {
   "cell_type": "code",
   "execution_count": null,
   "id": "a824b08c-8a90-4584-9e76-4ab1e5f6f752",
   "metadata": {},
   "outputs": [],
   "source": [
    "Q11. A random sample of 30 people was selected from a population with an unknown mean and standard\n",
    "deviation. The sample mean was found to be 72 and the sample standard deviation was found to be 10.\n",
    "Conduct a hypothesis test to determine if the population mean is significantly different from 70. Use a\n",
    "significance level of 0.05."
   ]
  },
  {
   "cell_type": "code",
   "execution_count": 93,
   "id": "8ebf697d-938e-4d15-9cc6-d253af87a821",
   "metadata": {},
   "outputs": [],
   "source": [
    "import numpy as np\n",
    "from scipy.stats import ttest_1samp"
   ]
  },
  {
   "cell_type": "code",
   "execution_count": 94,
   "id": "00f26639-f5d2-44e4-900c-13178d72c161",
   "metadata": {},
   "outputs": [],
   "source": [
    "# Given data\n",
    "sample_mean = 72\n",
    "sample_std = 10\n",
    "sample_size = 30\n",
    "population_mean = 70"
   ]
  },
  {
   "cell_type": "code",
   "execution_count": 96,
   "id": "7ded0ccf-9f8f-419a-a27e-8c12a17c4a72",
   "metadata": {},
   "outputs": [],
   "source": [
    "# Calculate the t-statistic and p-value\n",
    "t_statistic, p_value = ttest_1samp(np.random.normal(sample_mean, sample_std, sample_size), population_mean)"
   ]
  },
  {
   "cell_type": "code",
   "execution_count": 97,
   "id": "31a6bdc4-0231-4451-a05d-3be0ae4b8b1f",
   "metadata": {},
   "outputs": [],
   "source": [
    "# Significance level\n",
    "alpha = 0.05"
   ]
  },
  {
   "cell_type": "code",
   "execution_count": 98,
   "id": "97391e3d-9b9b-40ba-be9e-a192e26f7027",
   "metadata": {},
   "outputs": [
    {
     "name": "stdout",
     "output_type": "stream",
     "text": [
      "t-statistic: 1.142059582886538\n",
      "P-value: 0.2627715233047475\n"
     ]
    }
   ],
   "source": [
    "# Print the results\n",
    "print(\"t-statistic:\", t_statistic)\n",
    "print(\"P-value:\", p_value)"
   ]
  },
  {
   "cell_type": "code",
   "execution_count": 99,
   "id": "be15a2fa-d551-475d-828e-7e01377cd95d",
   "metadata": {},
   "outputs": [
    {
     "name": "stdout",
     "output_type": "stream",
     "text": [
      "\n",
      "Fail to reject the null hypothesis. There is no significant difference between the population mean and 70 at the 0.05 significance level.\n"
     ]
    }
   ],
   "source": [
    "# Compare p-value with significance level\n",
    "if p_value < alpha:\n",
    "    print(f\"\\nReject the null hypothesis. The population mean is significantly different from {population_mean} at the {alpha} significance level.\")\n",
    "else:\n",
    "    print(f\"\\nFail to reject the null hypothesis. There is no significant difference between the population mean and {population_mean} at the {alpha} significance level.\")"
   ]
  },
  {
   "cell_type": "code",
   "execution_count": null,
   "id": "dd8e8038-a80b-4729-a0cf-0666d9265932",
   "metadata": {},
   "outputs": [],
   "source": []
  }
 ],
 "metadata": {
  "kernelspec": {
   "display_name": "Python 3 (ipykernel)",
   "language": "python",
   "name": "python3"
  },
  "language_info": {
   "codemirror_mode": {
    "name": "ipython",
    "version": 3
   },
   "file_extension": ".py",
   "mimetype": "text/x-python",
   "name": "python",
   "nbconvert_exporter": "python",
   "pygments_lexer": "ipython3",
   "version": "3.10.8"
  }
 },
 "nbformat": 4,
 "nbformat_minor": 5
}
